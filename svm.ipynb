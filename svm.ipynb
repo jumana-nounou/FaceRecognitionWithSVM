{
  "nbformat": 4,
  "nbformat_minor": 0,
  "metadata": {
    "colab": {
      "provenance": []
    },
    "kernelspec": {
      "name": "python3",
      "display_name": "Python 3"
    },
    "language_info": {
      "name": "python"
    }
  },
  "cells": [
    {
      "cell_type": "code",
      "source": [
        "import numpy as np\n",
        "import cv2\n",
        "import pandas as pd\n",
        "import matplotlib.pyplot as plt\n",
        "from zipfile import ZipFile\n",
        "from PIL import Image\n",
        "from keras.preprocessing.image import ImageDataGenerator\n",
        "from keras.preprocessing import image\n",
        "import collections\n",
        "from google.colab.patches import cv2_imshow\n",
        "import glob\n",
        "from skimage.transform import resize\n"
      ],
      "metadata": {
        "id": "Y6L_q6MSF8lT"
      },
      "execution_count": 2,
      "outputs": []
    },
    {
      "cell_type": "markdown",
      "source": [
        "Extracting the train and test datasets"
      ],
      "metadata": {
        "id": "4SdOdb4DeORf"
      }
    },
    {
      "cell_type": "code",
      "source": [
        "TrainFile = \"/content/data.zip\"\n",
        "\n",
        "with ZipFile(TrainFile, 'r') as zip:\n",
        "\tzip.printdir()\n",
        "\tprint('Extracting all the files now...')\n",
        "\tzip.extractall()\n",
        "\tprint('Done!')"
      ],
      "metadata": {
        "colab": {
          "base_uri": "https://localhost:8080/"
        },
        "id": "0E-q1OVSeATf",
        "outputId": "72f977b5-e87d-419f-bbe4-e4ce675add91"
      },
      "execution_count": 3,
      "outputs": [
        {
          "output_type": "stream",
          "name": "stdout",
          "text": [
            "File Name                                             Modified             Size\n",
            "data/farida/                                   2023-05-04 16:55:14            0\n",
            "data/farida/10.jpeg                            2023-04-29 17:32:36       154769\n",
            "data/farida/8.jpeg                             2023-04-29 17:32:44       191340\n",
            "data/farida/WhatsApp Image 2023-05-04 at 3.35.40 PM.jpeg 2023-05-04 15:38:24        67007\n",
            "data/farida/WhatsApp Image 2023-05-04 at 3.41.09 PM.jpeg 2023-05-04 15:41:30       243209\n",
            "data/jumana/                                   2023-05-04 15:38:06            0\n",
            "data/jumana/5.jpeg                             2023-04-29 17:34:02        91490\n",
            "data/jumana/6.jpeg                             2023-04-29 17:34:02        72694\n",
            "data/jumana/7.jpeg                             2023-04-29 17:34:02        82340\n",
            "data/jumana/WhatsApp Image 2022-02-18 at 5.57.32 PM.jpeg 2022-02-18 19:03:42       160873\n",
            "data/jumana/WhatsApp Image 2023-01-26 at 3.10.28 AM.jpeg 2023-01-26 04:10:48       145507\n",
            "data/khaled/                                   2023-05-04 15:41:08            0\n",
            "data/khaled/2.jpeg                             2023-04-29 17:48:08       197494\n",
            "data/khaled/3.jpeg                             2023-04-29 17:48:00       237067\n",
            "data/khaled/4.jpeg                             2023-04-29 17:47:54       185036\n",
            "data/khaled/WhatsApp Image 2023-05-04 at 3.40.45 PM.jpeg 2023-05-04 15:40:54        40477\n",
            "data/kroush/                                   2023-05-04 15:38:58            0\n",
            "data/kroush/12.jpeg                            2023-04-29 17:24:24        58863\n",
            "data/kroush/13.jpeg                            2023-04-29 17:24:16        52161\n",
            "data/kroush/8.jpeg                             2023-04-29 17:24:16        48681\n",
            "data/maher/                                    2023-05-04 15:36:42            0\n",
            "data/maher/1 (2).jpeg                          2023-04-29 17:50:12       134063\n",
            "data/maher/1.jpeg                              2023-04-29 17:50:12        86203\n",
            "data/maher/2.jpeg                              2023-04-29 17:50:12       168060\n",
            "Extracting all the files now...\n",
            "Done!\n"
          ]
        }
      ]
    },
    {
      "cell_type": "markdown",
      "source": [
        "Haar Cascade function: takes an image finds the faces and returns them cropped \n"
      ],
      "metadata": {
        "id": "0LAEXUQdeTd7"
      }
    },
    {
      "cell_type": "code",
      "source": [
        "def haarCascade(img):\n",
        " face_cascade = cv2.CascadeClassifier(cv2.data.haarcascades + 'haarcascade_frontalface_default.xml')\n",
        " eye_cascade = cv2.CascadeClassifier(cv2.data.haarcascades + 'haarcascade_eye.xml')\n",
        " gray = cv2.cvtColor(img, cv2.COLOR_BGR2GRAY)\n",
        " faces = face_cascade.detectMultiScale(gray, 1.3, 5,minSize=(30, 30))\n",
        " \n",
        " for (x,y,w,h) in faces:\n",
        "    img = cv2.rectangle(img,(x,y),(x+w,y+h),(0,255,0),2)\n",
        "    roi_color = img[y:y+h, x:x+w]\n",
        "    newimg=np.array(roi_color)\n",
        "    return newimg\n"
      ],
      "metadata": {
        "id": "X5XNsqz2eJca"
      },
      "execution_count": 4,
      "outputs": []
    },
    {
      "cell_type": "code",
      "source": [
        "path = \"/content/data/*/*\"\n",
        "arr=[]\n",
        "target_face_size=(388,388)\n",
        "\n",
        "for file in glob.glob(path):\n",
        "  if('jumana' in file):\n",
        "    mytuple=(resize(haarCascade(cv2.imread(file)), target_face_size),'jumana')\n",
        "    arr.append(mytuple)\n",
        "  elif('farida' in file):\n",
        "    mytuple=(resize(haarCascade(cv2.imread(file)), target_face_size),'farida')\n",
        "    arr.append(mytuple)\n",
        "  elif('maher'in file):\n",
        "    mytuple=(resize(haarCascade(cv2.imread(file)),target_face_size),'maher')\n",
        "    arr.append(mytuple)\n",
        "  elif('khaled'in file):\n",
        "    mytuple=(resize(haarCascade(cv2.imread(file)),target_face_size),'khaled')\n",
        "    arr.append(mytuple)\n",
        "  elif('kroush'in file):\n",
        "    mytuple=(resize(haarCascade(cv2.imread(file)),target_face_size),'kroush')\n",
        "    arr.append(mytuple)\n",
        "\n",
        "   \n",
        "df = pd.DataFrame(arr,columns=['Image', 'label'])\n",
        "df"
      ],
      "metadata": {
        "id": "ejV_cCaXbaze",
        "colab": {
          "base_uri": "https://localhost:8080/",
          "height": 645
        },
        "outputId": "9da92320-fa24-481a-dd0a-9c317b9ea7c9"
      },
      "execution_count": 5,
      "outputs": [
        {
          "output_type": "execute_result",
          "data": {
            "text/plain": [
              "                                                Image   label\n",
              "0   [[[0.0, 1.0, 0.0], [0.0, 1.0, 0.0], [0.0, 1.0,...  farida\n",
              "1   [[[1.4157049750033398e-06, 0.9999993882756281,...  farida\n",
              "2   [[[2.014554801044556e-06, 0.9999926003852498, ...  farida\n",
              "3   [[[0.0, 1.0, 0.0], [0.0, 1.0, 0.0], [0.0, 1.0,...  farida\n",
              "4   [[[0.0, 1.0, 0.0], [0.0, 1.0, 0.0], [0.0, 1.0,...  jumana\n",
              "5   [[[0.0, 1.0, 0.0], [0.0, 1.0, 0.0], [0.0, 1.0,...  jumana\n",
              "6   [[[9.404875252516209e-25, 1.0, 1.4587153452882...  jumana\n",
              "7   [[[8.455598692295072e-24, 0.9999999999999998, ...  jumana\n",
              "8   [[[3.645986932191094e-12, 0.9999999999926645, ...  jumana\n",
              "9   [[[0.0, 0.9999999999999998, 0.0], [0.0, 0.9999...  kroush\n",
              "10  [[[0.0, 1.0, 0.0], [0.0, 1.0, 0.0], [0.0, 1.0,...  kroush\n",
              "11  [[[0.0, 1.0, 0.0], [0.0, 1.0, 0.0], [0.0, 1.0,...  kroush\n",
              "12  [[[0.0003061066993468036, 0.9996605572823717, ...  khaled\n",
              "13  [[[2.9429919107105852e-05, 0.9999601469845425,...  khaled\n",
              "14  [[[0.0, 1.0, 0.0], [0.0, 1.0, 0.0], [0.0, 1.0,...  khaled\n",
              "15  [[[0.0008214921265068616, 0.9991705686857366, ...  khaled\n",
              "16  [[[0.0, 1.0, 0.0], [0.0, 1.0, 0.0], [0.0, 1.0,...   maher\n",
              "17  [[[0.0, 0.9999999999999999, 0.0], [0.0, 1.0, 0...   maher\n",
              "18  [[[0.0, 1.0, 0.0], [0.0, 1.0, 0.0], [0.0, 0.99...   maher"
            ],
            "text/html": [
              "\n",
              "  <div id=\"df-6ff094af-a60d-4212-bff6-209341b60e13\">\n",
              "    <div class=\"colab-df-container\">\n",
              "      <div>\n",
              "<style scoped>\n",
              "    .dataframe tbody tr th:only-of-type {\n",
              "        vertical-align: middle;\n",
              "    }\n",
              "\n",
              "    .dataframe tbody tr th {\n",
              "        vertical-align: top;\n",
              "    }\n",
              "\n",
              "    .dataframe thead th {\n",
              "        text-align: right;\n",
              "    }\n",
              "</style>\n",
              "<table border=\"1\" class=\"dataframe\">\n",
              "  <thead>\n",
              "    <tr style=\"text-align: right;\">\n",
              "      <th></th>\n",
              "      <th>Image</th>\n",
              "      <th>label</th>\n",
              "    </tr>\n",
              "  </thead>\n",
              "  <tbody>\n",
              "    <tr>\n",
              "      <th>0</th>\n",
              "      <td>[[[0.0, 1.0, 0.0], [0.0, 1.0, 0.0], [0.0, 1.0,...</td>\n",
              "      <td>farida</td>\n",
              "    </tr>\n",
              "    <tr>\n",
              "      <th>1</th>\n",
              "      <td>[[[1.4157049750033398e-06, 0.9999993882756281,...</td>\n",
              "      <td>farida</td>\n",
              "    </tr>\n",
              "    <tr>\n",
              "      <th>2</th>\n",
              "      <td>[[[2.014554801044556e-06, 0.9999926003852498, ...</td>\n",
              "      <td>farida</td>\n",
              "    </tr>\n",
              "    <tr>\n",
              "      <th>3</th>\n",
              "      <td>[[[0.0, 1.0, 0.0], [0.0, 1.0, 0.0], [0.0, 1.0,...</td>\n",
              "      <td>farida</td>\n",
              "    </tr>\n",
              "    <tr>\n",
              "      <th>4</th>\n",
              "      <td>[[[0.0, 1.0, 0.0], [0.0, 1.0, 0.0], [0.0, 1.0,...</td>\n",
              "      <td>jumana</td>\n",
              "    </tr>\n",
              "    <tr>\n",
              "      <th>5</th>\n",
              "      <td>[[[0.0, 1.0, 0.0], [0.0, 1.0, 0.0], [0.0, 1.0,...</td>\n",
              "      <td>jumana</td>\n",
              "    </tr>\n",
              "    <tr>\n",
              "      <th>6</th>\n",
              "      <td>[[[9.404875252516209e-25, 1.0, 1.4587153452882...</td>\n",
              "      <td>jumana</td>\n",
              "    </tr>\n",
              "    <tr>\n",
              "      <th>7</th>\n",
              "      <td>[[[8.455598692295072e-24, 0.9999999999999998, ...</td>\n",
              "      <td>jumana</td>\n",
              "    </tr>\n",
              "    <tr>\n",
              "      <th>8</th>\n",
              "      <td>[[[3.645986932191094e-12, 0.9999999999926645, ...</td>\n",
              "      <td>jumana</td>\n",
              "    </tr>\n",
              "    <tr>\n",
              "      <th>9</th>\n",
              "      <td>[[[0.0, 0.9999999999999998, 0.0], [0.0, 0.9999...</td>\n",
              "      <td>kroush</td>\n",
              "    </tr>\n",
              "    <tr>\n",
              "      <th>10</th>\n",
              "      <td>[[[0.0, 1.0, 0.0], [0.0, 1.0, 0.0], [0.0, 1.0,...</td>\n",
              "      <td>kroush</td>\n",
              "    </tr>\n",
              "    <tr>\n",
              "      <th>11</th>\n",
              "      <td>[[[0.0, 1.0, 0.0], [0.0, 1.0, 0.0], [0.0, 1.0,...</td>\n",
              "      <td>kroush</td>\n",
              "    </tr>\n",
              "    <tr>\n",
              "      <th>12</th>\n",
              "      <td>[[[0.0003061066993468036, 0.9996605572823717, ...</td>\n",
              "      <td>khaled</td>\n",
              "    </tr>\n",
              "    <tr>\n",
              "      <th>13</th>\n",
              "      <td>[[[2.9429919107105852e-05, 0.9999601469845425,...</td>\n",
              "      <td>khaled</td>\n",
              "    </tr>\n",
              "    <tr>\n",
              "      <th>14</th>\n",
              "      <td>[[[0.0, 1.0, 0.0], [0.0, 1.0, 0.0], [0.0, 1.0,...</td>\n",
              "      <td>khaled</td>\n",
              "    </tr>\n",
              "    <tr>\n",
              "      <th>15</th>\n",
              "      <td>[[[0.0008214921265068616, 0.9991705686857366, ...</td>\n",
              "      <td>khaled</td>\n",
              "    </tr>\n",
              "    <tr>\n",
              "      <th>16</th>\n",
              "      <td>[[[0.0, 1.0, 0.0], [0.0, 1.0, 0.0], [0.0, 1.0,...</td>\n",
              "      <td>maher</td>\n",
              "    </tr>\n",
              "    <tr>\n",
              "      <th>17</th>\n",
              "      <td>[[[0.0, 0.9999999999999999, 0.0], [0.0, 1.0, 0...</td>\n",
              "      <td>maher</td>\n",
              "    </tr>\n",
              "    <tr>\n",
              "      <th>18</th>\n",
              "      <td>[[[0.0, 1.0, 0.0], [0.0, 1.0, 0.0], [0.0, 0.99...</td>\n",
              "      <td>maher</td>\n",
              "    </tr>\n",
              "  </tbody>\n",
              "</table>\n",
              "</div>\n",
              "      <button class=\"colab-df-convert\" onclick=\"convertToInteractive('df-6ff094af-a60d-4212-bff6-209341b60e13')\"\n",
              "              title=\"Convert this dataframe to an interactive table.\"\n",
              "              style=\"display:none;\">\n",
              "        \n",
              "  <svg xmlns=\"http://www.w3.org/2000/svg\" height=\"24px\"viewBox=\"0 0 24 24\"\n",
              "       width=\"24px\">\n",
              "    <path d=\"M0 0h24v24H0V0z\" fill=\"none\"/>\n",
              "    <path d=\"M18.56 5.44l.94 2.06.94-2.06 2.06-.94-2.06-.94-.94-2.06-.94 2.06-2.06.94zm-11 1L8.5 8.5l.94-2.06 2.06-.94-2.06-.94L8.5 2.5l-.94 2.06-2.06.94zm10 10l.94 2.06.94-2.06 2.06-.94-2.06-.94-.94-2.06-.94 2.06-2.06.94z\"/><path d=\"M17.41 7.96l-1.37-1.37c-.4-.4-.92-.59-1.43-.59-.52 0-1.04.2-1.43.59L10.3 9.45l-7.72 7.72c-.78.78-.78 2.05 0 2.83L4 21.41c.39.39.9.59 1.41.59.51 0 1.02-.2 1.41-.59l7.78-7.78 2.81-2.81c.8-.78.8-2.07 0-2.86zM5.41 20L4 18.59l7.72-7.72 1.47 1.35L5.41 20z\"/>\n",
              "  </svg>\n",
              "      </button>\n",
              "      \n",
              "  <style>\n",
              "    .colab-df-container {\n",
              "      display:flex;\n",
              "      flex-wrap:wrap;\n",
              "      gap: 12px;\n",
              "    }\n",
              "\n",
              "    .colab-df-convert {\n",
              "      background-color: #E8F0FE;\n",
              "      border: none;\n",
              "      border-radius: 50%;\n",
              "      cursor: pointer;\n",
              "      display: none;\n",
              "      fill: #1967D2;\n",
              "      height: 32px;\n",
              "      padding: 0 0 0 0;\n",
              "      width: 32px;\n",
              "    }\n",
              "\n",
              "    .colab-df-convert:hover {\n",
              "      background-color: #E2EBFA;\n",
              "      box-shadow: 0px 1px 2px rgba(60, 64, 67, 0.3), 0px 1px 3px 1px rgba(60, 64, 67, 0.15);\n",
              "      fill: #174EA6;\n",
              "    }\n",
              "\n",
              "    [theme=dark] .colab-df-convert {\n",
              "      background-color: #3B4455;\n",
              "      fill: #D2E3FC;\n",
              "    }\n",
              "\n",
              "    [theme=dark] .colab-df-convert:hover {\n",
              "      background-color: #434B5C;\n",
              "      box-shadow: 0px 1px 3px 1px rgba(0, 0, 0, 0.15);\n",
              "      filter: drop-shadow(0px 1px 2px rgba(0, 0, 0, 0.3));\n",
              "      fill: #FFFFFF;\n",
              "    }\n",
              "  </style>\n",
              "\n",
              "      <script>\n",
              "        const buttonEl =\n",
              "          document.querySelector('#df-6ff094af-a60d-4212-bff6-209341b60e13 button.colab-df-convert');\n",
              "        buttonEl.style.display =\n",
              "          google.colab.kernel.accessAllowed ? 'block' : 'none';\n",
              "\n",
              "        async function convertToInteractive(key) {\n",
              "          const element = document.querySelector('#df-6ff094af-a60d-4212-bff6-209341b60e13');\n",
              "          const dataTable =\n",
              "            await google.colab.kernel.invokeFunction('convertToInteractive',\n",
              "                                                     [key], {});\n",
              "          if (!dataTable) return;\n",
              "\n",
              "          const docLinkHtml = 'Like what you see? Visit the ' +\n",
              "            '<a target=\"_blank\" href=https://colab.research.google.com/notebooks/data_table.ipynb>data table notebook</a>'\n",
              "            + ' to learn more about interactive tables.';\n",
              "          element.innerHTML = '';\n",
              "          dataTable['output_type'] = 'display_data';\n",
              "          await google.colab.output.renderOutput(dataTable, element);\n",
              "          const docLink = document.createElement('div');\n",
              "          docLink.innerHTML = docLinkHtml;\n",
              "          element.appendChild(docLink);\n",
              "        }\n",
              "      </script>\n",
              "    </div>\n",
              "  </div>\n",
              "  "
            ]
          },
          "metadata": {},
          "execution_count": 5
        }
      ]
    },
    {
      "cell_type": "code",
      "source": [
        "for i in range(18):\n",
        " print(df.Image[i].shape)"
      ],
      "metadata": {
        "colab": {
          "base_uri": "https://localhost:8080/"
        },
        "id": "i3hB7p_K-hF3",
        "outputId": "ccfee791-d3ee-4b4a-cb5d-8b126b2a3290"
      },
      "execution_count": 6,
      "outputs": [
        {
          "output_type": "stream",
          "name": "stdout",
          "text": [
            "(388, 388, 3)\n",
            "(388, 388, 3)\n",
            "(388, 388, 3)\n",
            "(388, 388, 3)\n",
            "(388, 388, 3)\n",
            "(388, 388, 3)\n",
            "(388, 388, 3)\n",
            "(388, 388, 3)\n",
            "(388, 388, 3)\n",
            "(388, 388, 3)\n",
            "(388, 388, 3)\n",
            "(388, 388, 3)\n",
            "(388, 388, 3)\n",
            "(388, 388, 3)\n",
            "(388, 388, 3)\n",
            "(388, 388, 3)\n",
            "(388, 388, 3)\n",
            "(388, 388, 3)\n"
          ]
        }
      ]
    },
    {
      "cell_type": "markdown",
      "source": [
        "orientations:This parameter determines the number of histogram channels in the HOG feature vector.\n",
        "\n",
        "pixels_per_cell: The size of the cell over which to calculate the histograms and determines the size of the spatial binning\n",
        "\n",
        "cells_per_block: The number of cells to include in each block of the HOG feature vector.\n",
        "\n",
        "block_norm:The default is 'L2-Hys' which applies L2 normalization followed by a square-root operation."
      ],
      "metadata": {
        "id": "xj5LwG3RnKDY"
      }
    },
    {
      "cell_type": "code",
      "source": [
        "import numpy as np\n",
        "from skimage import feature\n",
        "from sklearn.svm import LinearSVC\n",
        "from sklearn.model_selection import train_test_split\n",
        "\n",
        "images = df['Image']\n",
        "labels = df['label']\n",
        "\n",
        "\n",
        "features = []\n",
        "for i in range(len(images)):\n",
        "    # Extracting the HOG features from the images\n",
        "    hog = feature.hog(images[i], orientations=9, pixels_per_cell=(8, 8), cells_per_block=(2, 2), block_norm='L2-Hys', channel_axis=2)\n",
        "    features.append(hog)\n",
        "features = np.array(features)\n",
        "\n",
        "X_train, X_test, y_train, y_test = train_test_split(features, labels, test_size=0.2, random_state=42)\n",
        "\n",
        "#SVM model\n",
        "SVM = LinearSVC(random_state=42)\n",
        "SVM.fit(X_train, y_train)\n",
        "\n",
        "# Test SVM classifier\n",
        "accuracy = SVM.score(X_test, y_test)\n",
        "print(\"Accuracy: \",accuracy * 100)"
      ],
      "metadata": {
        "colab": {
          "base_uri": "https://localhost:8080/"
        },
        "id": "vcdwVroRg_i8",
        "outputId": "9ba1352b-5599-4271-b104-06f12715fa4a"
      },
      "execution_count": 10,
      "outputs": [
        {
          "output_type": "stream",
          "name": "stdout",
          "text": [
            "Accuracy:  50.0\n"
          ]
        }
      ]
    },
    {
      "cell_type": "markdown",
      "source": [
        "*we try predicting the labels of all images of the df and compare to actual labels*"
      ],
      "metadata": {
        "id": "UQzpWBbZp2kT"
      }
    },
    {
      "cell_type": "code",
      "source": [
        "for i in range(19):\n",
        "  img = df.Image[i]\n",
        "  hog = feature.hog(img, orientations=9, pixels_per_cell=(8, 8), cells_per_block=(2, 2), block_norm='L2-Hys', channel_axis=2)\n",
        "  hog = hog.reshape(1, -1)\n",
        "  label = SVM.predict(hog)\n",
        "  print(\"Predicted label: \",label)\n"
      ],
      "metadata": {
        "colab": {
          "base_uri": "https://localhost:8080/"
        },
        "id": "HetJ4mzCkwRI",
        "outputId": "530ed360-0b6d-4955-801e-41401bc577dc"
      },
      "execution_count": 11,
      "outputs": [
        {
          "output_type": "stream",
          "name": "stdout",
          "text": [
            "Predicted label:  ['jumana']\n",
            "Predicted label:  ['farida']\n",
            "Predicted label:  ['farida']\n",
            "Predicted label:  ['farida']\n",
            "Predicted label:  ['jumana']\n",
            "Predicted label:  ['jumana']\n",
            "Predicted label:  ['jumana']\n",
            "Predicted label:  ['jumana']\n",
            "Predicted label:  ['jumana']\n",
            "Predicted label:  ['kroush']\n",
            "Predicted label:  ['kroush']\n",
            "Predicted label:  ['khaled']\n",
            "Predicted label:  ['khaled']\n",
            "Predicted label:  ['khaled']\n",
            "Predicted label:  ['khaled']\n",
            "Predicted label:  ['khaled']\n",
            "Predicted label:  ['maher']\n",
            "Predicted label:  ['maher']\n",
            "Predicted label:  ['maher']\n"
          ]
        }
      ]
    }
  ]
}